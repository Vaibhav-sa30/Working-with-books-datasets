{
  "cells": [
    {
      "cell_type": "markdown",
      "metadata": {
        "id": "view-in-github",
        "colab_type": "text"
      },
      "source": [
        "<a href=\"https://colab.research.google.com/github/Vaibhav-sa30/Working-with-books-datasets/blob/main/Working_with_Books_Datasets.ipynb\" target=\"_parent\"><img src=\"https://colab.research.google.com/assets/colab-badge.svg\" alt=\"Open In Colab\"/></a>"
      ]
    },
    {
      "cell_type": "markdown",
      "metadata": {
        "id": "10QNxV3ozfpN"
      },
      "source": [
        "# TDS PROJECTS 2"
      ]
    },
    {
      "cell_type": "markdown",
      "metadata": {
        "id": "j3fhyD9szfpc"
      },
      "source": [
        "### How to use these files\n",
        "Download and place the **.csv** files in the same folder and run the codes\n",
        "\n",
        "\n",
        "Q11: How many unique tags are there in the dataset [book_tags.csv] ? (N)\n",
        "\n",
        "Q10: Which book (goodreads_book_id) has the least number of count of tags given by the user ie. the book with minimum user records including all tags [book_tags.csv] ? (N)\n",
        "\n",
        "Q12: What is the mean value of rating of all the books in the dataset based on (average_rating) [books.csv] ? (F)\n",
        "\n",
        "Q4: Which book (title) has the maximum number of ratings based on (work_ratings_count) [books.csv] ? (S)\n",
        "\n",
        "Q2: How many unique books are present in the dataset ? Evaluate based on the 'book_id'? [books.csv] (N)\n",
        "\n",
        "Q9: Which book (title) has the minimum (average_rating) [books.csv], if more than 1 book have same average rating, sort the books by ['title'] in alphabetical order and use the first book in the sorted list? (S)\n",
        "\n",
        "Q8: Which is the least used tag, i.e. mapped with the lowest number of books [book_tags.csv]? (In case of more than one tag, mention the tag id with the least numerical value) (N)\n",
        "\n",
        "Q3: How many unique users are present in the dataset [ratings.csv] ? (N)\n",
        "\n",
        "Q1: How many books do not have an original title [books.csv] ? (N)\n",
        "\n",
        "Q14: Predict sentiment using Textblob. How many positive titles (original_title) are there [books.csv] ? (cut-off >0) N"
      ]
    },
    {
      "cell_type": "markdown",
      "metadata": {
        "id": "xQC-e7Czzfpc"
      },
      "source": [
        "## Importing packages"
      ]
    },
    {
      "cell_type": "code",
      "execution_count": null,
      "metadata": {
        "id": "0OyD7LPYzfpd"
      },
      "outputs": [],
      "source": [
        "import pandas as pd\n",
        "from textblob import TextBlob"
      ]
    },
    {
      "cell_type": "code",
      "source": [
        "from google.colab import drive\n",
        "drive.mount('/content/drive')\n"
      ],
      "metadata": {
        "id": "Z0_fliSXp-VX",
        "colab": {
          "base_uri": "https://localhost:8080/"
        },
        "outputId": "64204af6-5c5b-487e-a86b-af9fa9409c5a"
      },
      "execution_count": null,
      "outputs": [
        {
          "output_type": "stream",
          "name": "stdout",
          "text": [
            "Mounted at /content/drive\n"
          ]
        }
      ]
    },
    {
      "cell_type": "markdown",
      "metadata": {
        "id": "HqWeJgeIzfpe"
      },
      "source": [
        "# Q1"
      ]
    },
    {
      "cell_type": "code",
      "execution_count": null,
      "metadata": {
        "colab": {
          "base_uri": "https://localhost:8080/"
        },
        "id": "XmWbjRrCzfpe",
        "outputId": "132da8af-dc0b-497b-a063-26de9da44ab3"
      },
      "outputs": [
        {
          "output_type": "stream",
          "name": "stdout",
          "text": [
            "The number of books without an original title: 136\n"
          ]
        }
      ],
      "source": [
        "# Load the CSV file into a pandas DataFrame\n",
        "data = pd.read_csv(\"/content/books (1).csv\")\n",
        "\n",
        "# Check how many rows do not have an original title\n",
        "missing_original_title_count = data['original_title'].isnull().sum()\n",
        "apple=missing_original_title_count\n",
        "\n",
        "print(f\"The number of books without an original title: {missing_original_title_count}\")"
      ]
    },
    {
      "cell_type": "markdown",
      "metadata": {
        "id": "-3CNkqMezfpe"
      },
      "source": [
        "# Q2"
      ]
    },
    {
      "cell_type": "code",
      "execution_count": null,
      "metadata": {
        "colab": {
          "base_uri": "https://localhost:8080/"
        },
        "id": "vnRJMy5tzfpe",
        "outputId": "fd19a28c-5cb1-473d-e17c-af645309f0db"
      },
      "outputs": [
        {
          "output_type": "stream",
          "name": "stdout",
          "text": [
            "The number of unique books in the dataset is: 1675\n"
          ]
        }
      ],
      "source": [
        "# Load the books.csv file into a DataFrame\n",
        "books_df = pd.read_csv('/content/books (1).csv')\n",
        "\n",
        "# Count the number of unique books based on 'book_id'\n",
        "unique_books_count = books_df['book_id'].nunique()\n",
        "\n",
        "print(f\"The number of unique books in the dataset is: {unique_books_count}\")"
      ]
    },
    {
      "cell_type": "code",
      "source": [],
      "metadata": {
        "id": "bc35sHZ9uE5Z"
      },
      "execution_count": null,
      "outputs": []
    },
    {
      "cell_type": "markdown",
      "metadata": {
        "id": "tdmQyPR7zfpf"
      },
      "source": [
        "# Q3"
      ]
    },
    {
      "cell_type": "code",
      "execution_count": null,
      "metadata": {
        "colab": {
          "base_uri": "https://localhost:8080/"
        },
        "id": "Up939FdPzfpf",
        "outputId": "1f662571-96d8-4823-8c6a-d6d5f9c8ee37"
      },
      "outputs": [
        {
          "output_type": "stream",
          "name": "stdout",
          "text": [
            "Number of unique users: 52752\n"
          ]
        }
      ],
      "source": [
        "# Load the CSV file into a DataFrame\n",
        "df = pd.read_csv(\"/content/ratings (1).csv\")\n",
        "\n",
        "# Count the number of unique user IDs\n",
        "unique_users_count = df['user_id'].nunique()\n",
        "\n",
        "print(f\"Number of unique users: {unique_users_count}\")"
      ]
    },
    {
      "cell_type": "markdown",
      "metadata": {
        "id": "OGBi4Z_1zfpf"
      },
      "source": [
        "# Q4"
      ]
    },
    {
      "cell_type": "code",
      "execution_count": null,
      "metadata": {
        "colab": {
          "base_uri": "https://localhost:8080/"
        },
        "id": "Hm7XnAmLzfpg",
        "outputId": "d84ca76d-94ea-48e3-ff9c-e9a5d0c1acef"
      },
      "outputs": [
        {
          "output_type": "stream",
          "name": "stdout",
          "text": [
            "The book with the maximum number of ratings is: The Fault in Our Stars\n"
          ]
        }
      ],
      "source": [
        "# Load the books.csv file into a DataFrame\n",
        "books_df = pd.read_csv('/content/books (1).csv')\n",
        "\n",
        "# Find the book title with the maximum number of ratings\n",
        "max_ratings_book_title = books_df.loc[books_df['work_ratings_count'].idxmax(), 'title']\n",
        "\n",
        "print(f\"The book with the maximum number of ratings is: {max_ratings_book_title}\")"
      ]
    },
    {
      "cell_type": "markdown",
      "metadata": {
        "id": "ri6X3bCszfpg"
      },
      "source": [
        "# Q5"
      ]
    },
    {
      "cell_type": "code",
      "execution_count": null,
      "metadata": {
        "colab": {
          "base_uri": "https://localhost:8080/"
        },
        "id": "RZLS88G-zfpg",
        "outputId": "3c9ec9d2-8453-4859-bb63-f2adf552318d"
      },
      "outputs": [
        {
          "output_type": "stream",
          "name": "stdout",
          "text": [
            "9117\n"
          ]
        }
      ],
      "source": [
        "# Load the book_tags.csv file into a DataFrame\n",
        "book_tags_df = pd.read_csv('/content/book_tags (1).csv')\n",
        "\n",
        "# Count the number of unique tags\n",
        "unique_tags_count = book_tags_df['tag_id'].nunique()\n",
        "\n",
        "print(unique_tags_count)"
      ]
    },
    {
      "cell_type": "code",
      "source": [
        "book_tags_df"
      ],
      "metadata": {
        "colab": {
          "base_uri": "https://localhost:8080/",
          "height": 423
        },
        "id": "GB_-L2u-uT0E",
        "outputId": "6f500382-53b8-4006-f24c-d044e4cd2635"
      },
      "execution_count": null,
      "outputs": [
        {
          "output_type": "execute_result",
          "data": {
            "text/plain": [
              "        goodreads_book_id  tag_id  count\n",
              "0                       8   30574   2823\n",
              "1                       8   11557    144\n",
              "2                       8   11305    104\n",
              "3                       8    8717     71\n",
              "4                       8   14017     54\n",
              "...                   ...     ...    ...\n",
              "167495           33288638   21303      7\n",
              "167496           33288638   17271      7\n",
              "167497           33288638    1126      7\n",
              "167498           33288638   11478      7\n",
              "167499           33288638   27939      7\n",
              "\n",
              "[167500 rows x 3 columns]"
            ],
            "text/html": [
              "\n",
              "\n",
              "  <div id=\"df-dbd5c922-b353-4bd9-a35a-b5f8382fa089\">\n",
              "    <div class=\"colab-df-container\">\n",
              "      <div>\n",
              "<style scoped>\n",
              "    .dataframe tbody tr th:only-of-type {\n",
              "        vertical-align: middle;\n",
              "    }\n",
              "\n",
              "    .dataframe tbody tr th {\n",
              "        vertical-align: top;\n",
              "    }\n",
              "\n",
              "    .dataframe thead th {\n",
              "        text-align: right;\n",
              "    }\n",
              "</style>\n",
              "<table border=\"1\" class=\"dataframe\">\n",
              "  <thead>\n",
              "    <tr style=\"text-align: right;\">\n",
              "      <th></th>\n",
              "      <th>goodreads_book_id</th>\n",
              "      <th>tag_id</th>\n",
              "      <th>count</th>\n",
              "    </tr>\n",
              "  </thead>\n",
              "  <tbody>\n",
              "    <tr>\n",
              "      <th>0</th>\n",
              "      <td>8</td>\n",
              "      <td>30574</td>\n",
              "      <td>2823</td>\n",
              "    </tr>\n",
              "    <tr>\n",
              "      <th>1</th>\n",
              "      <td>8</td>\n",
              "      <td>11557</td>\n",
              "      <td>144</td>\n",
              "    </tr>\n",
              "    <tr>\n",
              "      <th>2</th>\n",
              "      <td>8</td>\n",
              "      <td>11305</td>\n",
              "      <td>104</td>\n",
              "    </tr>\n",
              "    <tr>\n",
              "      <th>3</th>\n",
              "      <td>8</td>\n",
              "      <td>8717</td>\n",
              "      <td>71</td>\n",
              "    </tr>\n",
              "    <tr>\n",
              "      <th>4</th>\n",
              "      <td>8</td>\n",
              "      <td>14017</td>\n",
              "      <td>54</td>\n",
              "    </tr>\n",
              "    <tr>\n",
              "      <th>...</th>\n",
              "      <td>...</td>\n",
              "      <td>...</td>\n",
              "      <td>...</td>\n",
              "    </tr>\n",
              "    <tr>\n",
              "      <th>167495</th>\n",
              "      <td>33288638</td>\n",
              "      <td>21303</td>\n",
              "      <td>7</td>\n",
              "    </tr>\n",
              "    <tr>\n",
              "      <th>167496</th>\n",
              "      <td>33288638</td>\n",
              "      <td>17271</td>\n",
              "      <td>7</td>\n",
              "    </tr>\n",
              "    <tr>\n",
              "      <th>167497</th>\n",
              "      <td>33288638</td>\n",
              "      <td>1126</td>\n",
              "      <td>7</td>\n",
              "    </tr>\n",
              "    <tr>\n",
              "      <th>167498</th>\n",
              "      <td>33288638</td>\n",
              "      <td>11478</td>\n",
              "      <td>7</td>\n",
              "    </tr>\n",
              "    <tr>\n",
              "      <th>167499</th>\n",
              "      <td>33288638</td>\n",
              "      <td>27939</td>\n",
              "      <td>7</td>\n",
              "    </tr>\n",
              "  </tbody>\n",
              "</table>\n",
              "<p>167500 rows × 3 columns</p>\n",
              "</div>\n",
              "      <button class=\"colab-df-convert\" onclick=\"convertToInteractive('df-dbd5c922-b353-4bd9-a35a-b5f8382fa089')\"\n",
              "              title=\"Convert this dataframe to an interactive table.\"\n",
              "              style=\"display:none;\">\n",
              "\n",
              "  <svg xmlns=\"http://www.w3.org/2000/svg\" height=\"24px\"viewBox=\"0 0 24 24\"\n",
              "       width=\"24px\">\n",
              "    <path d=\"M0 0h24v24H0V0z\" fill=\"none\"/>\n",
              "    <path d=\"M18.56 5.44l.94 2.06.94-2.06 2.06-.94-2.06-.94-.94-2.06-.94 2.06-2.06.94zm-11 1L8.5 8.5l.94-2.06 2.06-.94-2.06-.94L8.5 2.5l-.94 2.06-2.06.94zm10 10l.94 2.06.94-2.06 2.06-.94-2.06-.94-.94-2.06-.94 2.06-2.06.94z\"/><path d=\"M17.41 7.96l-1.37-1.37c-.4-.4-.92-.59-1.43-.59-.52 0-1.04.2-1.43.59L10.3 9.45l-7.72 7.72c-.78.78-.78 2.05 0 2.83L4 21.41c.39.39.9.59 1.41.59.51 0 1.02-.2 1.41-.59l7.78-7.78 2.81-2.81c.8-.78.8-2.07 0-2.86zM5.41 20L4 18.59l7.72-7.72 1.47 1.35L5.41 20z\"/>\n",
              "  </svg>\n",
              "      </button>\n",
              "\n",
              "\n",
              "\n",
              "    <div id=\"df-af225d67-656c-44b3-8c05-89a755b7cf16\">\n",
              "      <button class=\"colab-df-quickchart\" onclick=\"quickchart('df-af225d67-656c-44b3-8c05-89a755b7cf16')\"\n",
              "              title=\"Suggest charts.\"\n",
              "              style=\"display:none;\">\n",
              "\n",
              "<svg xmlns=\"http://www.w3.org/2000/svg\" height=\"24px\"viewBox=\"0 0 24 24\"\n",
              "     width=\"24px\">\n",
              "    <g>\n",
              "        <path d=\"M19 3H5c-1.1 0-2 .9-2 2v14c0 1.1.9 2 2 2h14c1.1 0 2-.9 2-2V5c0-1.1-.9-2-2-2zM9 17H7v-7h2v7zm4 0h-2V7h2v10zm4 0h-2v-4h2v4z\"/>\n",
              "    </g>\n",
              "</svg>\n",
              "      </button>\n",
              "    </div>\n",
              "\n",
              "<style>\n",
              "  .colab-df-quickchart {\n",
              "    background-color: #E8F0FE;\n",
              "    border: none;\n",
              "    border-radius: 50%;\n",
              "    cursor: pointer;\n",
              "    display: none;\n",
              "    fill: #1967D2;\n",
              "    height: 32px;\n",
              "    padding: 0 0 0 0;\n",
              "    width: 32px;\n",
              "  }\n",
              "\n",
              "  .colab-df-quickchart:hover {\n",
              "    background-color: #E2EBFA;\n",
              "    box-shadow: 0px 1px 2px rgba(60, 64, 67, 0.3), 0px 1px 3px 1px rgba(60, 64, 67, 0.15);\n",
              "    fill: #174EA6;\n",
              "  }\n",
              "\n",
              "  [theme=dark] .colab-df-quickchart {\n",
              "    background-color: #3B4455;\n",
              "    fill: #D2E3FC;\n",
              "  }\n",
              "\n",
              "  [theme=dark] .colab-df-quickchart:hover {\n",
              "    background-color: #434B5C;\n",
              "    box-shadow: 0px 1px 3px 1px rgba(0, 0, 0, 0.15);\n",
              "    filter: drop-shadow(0px 1px 2px rgba(0, 0, 0, 0.3));\n",
              "    fill: #FFFFFF;\n",
              "  }\n",
              "</style>\n",
              "\n",
              "    <script>\n",
              "      async function quickchart(key) {\n",
              "        const containerElement = document.querySelector('#' + key);\n",
              "        const charts = await google.colab.kernel.invokeFunction(\n",
              "            'suggestCharts', [key], {});\n",
              "      }\n",
              "    </script>\n",
              "\n",
              "      <script>\n",
              "\n",
              "function displayQuickchartButton(domScope) {\n",
              "  let quickchartButtonEl =\n",
              "    domScope.querySelector('#df-af225d67-656c-44b3-8c05-89a755b7cf16 button.colab-df-quickchart');\n",
              "  quickchartButtonEl.style.display =\n",
              "    google.colab.kernel.accessAllowed ? 'block' : 'none';\n",
              "}\n",
              "\n",
              "        displayQuickchartButton(document);\n",
              "      </script>\n",
              "      <style>\n",
              "    .colab-df-container {\n",
              "      display:flex;\n",
              "      flex-wrap:wrap;\n",
              "      gap: 12px;\n",
              "    }\n",
              "\n",
              "    .colab-df-convert {\n",
              "      background-color: #E8F0FE;\n",
              "      border: none;\n",
              "      border-radius: 50%;\n",
              "      cursor: pointer;\n",
              "      display: none;\n",
              "      fill: #1967D2;\n",
              "      height: 32px;\n",
              "      padding: 0 0 0 0;\n",
              "      width: 32px;\n",
              "    }\n",
              "\n",
              "    .colab-df-convert:hover {\n",
              "      background-color: #E2EBFA;\n",
              "      box-shadow: 0px 1px 2px rgba(60, 64, 67, 0.3), 0px 1px 3px 1px rgba(60, 64, 67, 0.15);\n",
              "      fill: #174EA6;\n",
              "    }\n",
              "\n",
              "    [theme=dark] .colab-df-convert {\n",
              "      background-color: #3B4455;\n",
              "      fill: #D2E3FC;\n",
              "    }\n",
              "\n",
              "    [theme=dark] .colab-df-convert:hover {\n",
              "      background-color: #434B5C;\n",
              "      box-shadow: 0px 1px 3px 1px rgba(0, 0, 0, 0.15);\n",
              "      filter: drop-shadow(0px 1px 2px rgba(0, 0, 0, 0.3));\n",
              "      fill: #FFFFFF;\n",
              "    }\n",
              "  </style>\n",
              "\n",
              "      <script>\n",
              "        const buttonEl =\n",
              "          document.querySelector('#df-dbd5c922-b353-4bd9-a35a-b5f8382fa089 button.colab-df-convert');\n",
              "        buttonEl.style.display =\n",
              "          google.colab.kernel.accessAllowed ? 'block' : 'none';\n",
              "\n",
              "        async function convertToInteractive(key) {\n",
              "          const element = document.querySelector('#df-dbd5c922-b353-4bd9-a35a-b5f8382fa089');\n",
              "          const dataTable =\n",
              "            await google.colab.kernel.invokeFunction('convertToInteractive',\n",
              "                                                     [key], {});\n",
              "          if (!dataTable) return;\n",
              "\n",
              "          const docLinkHtml = 'Like what you see? Visit the ' +\n",
              "            '<a target=\"_blank\" href=https://colab.research.google.com/notebooks/data_table.ipynb>data table notebook</a>'\n",
              "            + ' to learn more about interactive tables.';\n",
              "          element.innerHTML = '';\n",
              "          dataTable['output_type'] = 'display_data';\n",
              "          await google.colab.output.renderOutput(dataTable, element);\n",
              "          const docLink = document.createElement('div');\n",
              "          docLink.innerHTML = docLinkHtml;\n",
              "          element.appendChild(docLink);\n",
              "        }\n",
              "      </script>\n",
              "    </div>\n",
              "  </div>\n"
            ]
          },
          "metadata": {},
          "execution_count": 8
        }
      ]
    },
    {
      "cell_type": "markdown",
      "metadata": {
        "id": "9Z4Ppazwzfpg"
      },
      "source": [
        "# Q6"
      ]
    },
    {
      "cell_type": "code",
      "execution_count": null,
      "metadata": {
        "colab": {
          "base_uri": "https://localhost:8080/"
        },
        "id": "r_Q-xGktzfph",
        "outputId": "8b896905-661e-4eb4-b3a9-3a24f0c7364a"
      },
      "outputs": [
        {
          "output_type": "stream",
          "name": "stdout",
          "text": [
            "The book with the most number of tag counts is: Harry Potter and the Sorcerer's Stone (Harry Potter, #1)\n"
          ]
        }
      ],
      "source": [
        "# Load the CSV files into DataFrames\n",
        "book_tags_df = pd.read_csv('book_tags.csv')\n",
        "books_df = pd.read_csv('books.csv')\n",
        "\n",
        "# Merge book_tags_df and books_df on 'goodreads_book_id'\n",
        "merged_df = pd.merge(book_tags_df, books_df, left_on='goodreads_book_id', right_on='goodreads_book_id')\n",
        "\n",
        "# Group by book title and sum the 'count' column\n",
        "tag_counts_per_book = merged_df.groupby('title')['count'].sum()\n",
        "\n",
        "# Find the book title with the maximum tag counts\n",
        "max_tag_count_book_title = tag_counts_per_book.idxmax()\n",
        "\n",
        "print(f\"The book with the most number of tag counts is: {max_tag_count_book_title}\")"
      ]
    },
    {
      "cell_type": "markdown",
      "metadata": {
        "id": "oNBvbN_Mzfph"
      },
      "source": [
        "# Q7"
      ]
    },
    {
      "cell_type": "code",
      "execution_count": null,
      "metadata": {
        "colab": {
          "base_uri": "https://localhost:8080/"
        },
        "id": "qr9eDwI4zfph",
        "outputId": "d336862a-914d-4989-868e-2f577b2cbfab"
      },
      "outputs": [
        {
          "output_type": "stream",
          "name": "stdout",
          "text": [
            "168668\n"
          ]
        }
      ],
      "source": [
        "# Load the to_read.csv file into a DataFrame\n",
        "to_read_df = pd.read_csv('toread.csv')\n",
        "\n",
        "# Group by book_id and count the number of users who marked each book as \"to-read\"\n",
        "to_read_counts = to_read_df['book_id'].value_counts()\n",
        "\n",
        "# Get the book_id with the most \"to-read\" counts\n",
        "most_to_read_book_id = to_read_counts.idxmax()\n",
        "\n",
        "# Load the books.csv file into a DataFrame\n",
        "books_df = pd.read_csv('books.csv')\n",
        "\n",
        "# Find the goodreads_book_id using the most_to_read_book_id\n",
        "most_to_read_goodreads_book_id = books_df.loc[books_df['book_id'] == most_to_read_book_id, 'goodreads_book_id'].values[0]\n",
        "\n",
        "print(most_to_read_goodreads_book_id)\n"
      ]
    },
    {
      "cell_type": "markdown",
      "metadata": {
        "id": "qlGcnPupzfpi"
      },
      "source": [
        "# Q8"
      ]
    },
    {
      "cell_type": "code",
      "execution_count": null,
      "metadata": {
        "colab": {
          "base_uri": "https://localhost:8080/"
        },
        "id": "ZkTUlZR5zfpi",
        "outputId": "b0154b76-7abd-4f25-bc18-90e61b1a53fc"
      },
      "outputs": [
        {
          "output_type": "stream",
          "name": "stdout",
          "text": [
            "Least used tag ID: 28\n",
            "Number of books mapped to the least used tag: 1\n"
          ]
        }
      ],
      "source": [
        "# Load the CSV file into a DataFrame\n",
        "df = pd.read_csv(\"/content/book_tags (1).csv\")\n",
        "\n",
        "# Group by tag_id and count the number of occurrences\n",
        "tag_counts = df.groupby('tag_id')['goodreads_book_id'].count()\n",
        "\n",
        "# Find the tag with the lowest count\n",
        "least_used_tag_id = tag_counts.idxmin()\n",
        "least_used_tag_count = tag_counts.min()\n",
        "\n",
        "print(f\"Least used tag ID: {least_used_tag_id}\")\n",
        "print(f\"Number of books mapped to the least used tag: {least_used_tag_count}\")"
      ]
    },
    {
      "cell_type": "markdown",
      "metadata": {
        "id": "ACUuTfOZzfpi"
      },
      "source": [
        "# Q9"
      ]
    },
    {
      "cell_type": "code",
      "execution_count": null,
      "metadata": {
        "colab": {
          "base_uri": "https://localhost:8080/"
        },
        "id": "PzFk3ol1zfpi",
        "outputId": "0f53cc24-d7a9-4def-f278-45af3c17b6d3"
      },
      "outputs": [
        {
          "output_type": "stream",
          "name": "stdout",
          "text": [
            "The book with the minimum average rating is: Pygmy\n"
          ]
        }
      ],
      "source": [
        "# Load the books.csv file into a DataFrame\n",
        "books_df = pd.read_csv('/content/books (1).csv')\n",
        "\n",
        "# Find the book title with the minimum average rating\n",
        "min_avg_rating_books = books_df[books_df['average_rating'] == books_df['average_rating'].min()]\n",
        "\n",
        "# Sort the tied books by title in alphabetical order\n",
        "min_avg_rating_books_sorted = min_avg_rating_books.sort_values(by='title')\n",
        "\n",
        "# Get the first book's title from the sorted list\n",
        "min_avg_rating_book_title = min_avg_rating_books_sorted.iloc[0]['title']\n",
        "\n",
        "print(f\"The book with the minimum average rating is: {min_avg_rating_book_title}\")"
      ]
    },
    {
      "cell_type": "markdown",
      "metadata": {
        "id": "nLobX4jYzfpi"
      },
      "source": [
        "# Q10"
      ]
    },
    {
      "cell_type": "code",
      "execution_count": null,
      "metadata": {
        "colab": {
          "base_uri": "https://localhost:8080/"
        },
        "id": "v-1BC1H4zfpj",
        "outputId": "37612154-63bd-45bf-e46b-5aa1982d719c"
      },
      "outputs": [
        {
          "output_type": "stream",
          "name": "stdout",
          "text": [
            "8110748\n"
          ]
        }
      ],
      "source": [
        "# Load the book_tags.csv file into a DataFrame\n",
        "book_tags_df = pd.read_csv('/content/book_tags (1).csv')\n",
        "\n",
        "# Group by book_id and calculate the total count for each book\n",
        "book_tag_counts = book_tags_df.groupby('goodreads_book_id')['count'].sum()\n",
        "\n",
        "# Find the book_id with the minimum total count (least number of tags)\n",
        "least_tag_count_book_id = book_tag_counts.idxmin()\n",
        "\n",
        "print(least_tag_count_book_id)"
      ]
    },
    {
      "cell_type": "markdown",
      "metadata": {
        "id": "Lk0DommRzfpj"
      },
      "source": [
        "# Q11"
      ]
    },
    {
      "cell_type": "code",
      "execution_count": null,
      "metadata": {
        "colab": {
          "base_uri": "https://localhost:8080/"
        },
        "id": "bluhYG9szfpj",
        "outputId": "69b2601d-f4e3-41c6-d2b5-116a1010f598"
      },
      "outputs": [
        {
          "output_type": "stream",
          "name": "stdout",
          "text": [
            "11295\n"
          ]
        }
      ],
      "source": [
        "# Load the book_tags.csv file into a DataFrame\n",
        "book_tags_df = pd.read_csv('book_tags.csv')\n",
        "\n",
        "# Count the number of unique tags\n",
        "unique_tags_count = book_tags_df['tag_id'].nunique()\n",
        "\n",
        "print(unique_tags_count)"
      ]
    },
    {
      "cell_type": "markdown",
      "source": [
        "# Q12"
      ],
      "metadata": {
        "id": "LO5oSX4H01_3"
      }
    },
    {
      "cell_type": "code",
      "source": [
        "# Load the books.csv file into a DataFrame\n",
        "books_df = pd.read_csv(\"/content/books (1).csv\")\n",
        "\n",
        "# Calculate the mean value of the ratings based on 'average_rating' column\n",
        "mean_rating = books_df['average_rating'].mean()\n",
        "\n",
        "print(f\"The mean value of ratings of all books is: {mean_rating}\")\n"
      ],
      "metadata": {
        "colab": {
          "base_uri": "https://localhost:8080/"
        },
        "id": "V0r93yph05Fx",
        "outputId": "ca69d3f2-d752-460d-9604-f33320fffeb1"
      },
      "execution_count": null,
      "outputs": [
        {
          "output_type": "stream",
          "name": "stdout",
          "text": [
            "The mean value of ratings of all books is: 4.011044776119403\n"
          ]
        }
      ]
    },
    {
      "cell_type": "markdown",
      "metadata": {
        "id": "a9JJF7cpzfpj"
      },
      "source": [
        "# Q14"
      ]
    },
    {
      "cell_type": "code",
      "execution_count": null,
      "metadata": {
        "colab": {
          "base_uri": "https://localhost:8080/"
        },
        "id": "FpNEn8tRzfpj",
        "outputId": "963a5816-29c5-41e1-f780-797d3106252f"
      },
      "outputs": [
        {
          "output_type": "stream",
          "name": "stdout",
          "text": [
            "The number of positive titles is: 1355\n"
          ]
        }
      ],
      "source": [
        "# Load the books.csv file into a DataFrame\n",
        "books_df = pd.read_csv('/content/books (1).csv')\n",
        "\n",
        "# Define a function to predict sentiment using TextBlob\n",
        "def get_sentiment(text):\n",
        "    blob = TextBlob(str(text))  # Convert to string to handle   NaN values\n",
        "    return blob.sentiment.polarity\n",
        "\n",
        "# Apply the sentiment function to the 'original_title' column and create a new 'sentiment' column\n",
        "books_df['sentiment'] = books_df['original_title'].apply(get_sentiment)\n",
        "\n",
        "# Count the number of positive titles (titles with positive sentiment)\n",
        "positive_titles_count = (books_df['sentiment'] >= 0).sum()\n",
        "banana=positive_titles_count-apple\n",
        "print(f\"The number of positive titles is: {banana}\")"
      ]
    },
    {
      "cell_type": "markdown",
      "metadata": {
        "id": "Xk5FMf-Rzfpk"
      },
      "source": [
        "# *Authored by MoonWrecker using Gpt*"
      ]
    }
  ],
  "metadata": {
    "kernelspec": {
      "display_name": "Python 3",
      "language": "python",
      "name": "python3"
    },
    "language_info": {
      "codemirror_mode": {
        "name": "ipython",
        "version": 3
      },
      "file_extension": ".py",
      "mimetype": "text/x-python",
      "name": "python",
      "nbconvert_exporter": "python",
      "pygments_lexer": "ipython3",
      "version": "3.11.1"
    },
    "orig_nbformat": 4,
    "colab": {
      "provenance": [],
      "include_colab_link": true
    }
  },
  "nbformat": 4,
  "nbformat_minor": 0
}